{
 "cells": [
  {
   "cell_type": "markdown",
   "metadata": {},
   "source": [
    "# Sparkify Project Workspace\n",
    "This workspace contains a tiny subset (128MB) of the full dataset available (12GB)."
   ]
  },
  {
   "cell_type": "code",
   "execution_count": 1,
   "metadata": {},
   "outputs": [],
   "source": [
    "import pandas as pd\n",
    "from pyspark.sql import SparkSession\n",
    "from pyspark.sql.functions import isnan, count, when, col, desc, udf, col, sort_array, asc, avg, explode,array,lit,coalesce,countDistinct\n",
    "from pyspark.ml import Pipeline\n",
    "from pyspark.ml.feature import IndexToString, StringIndexer, VectorIndexer,VectorAssembler\n",
    "from pyspark.sql.functions import sum as Fsum\n",
    "from pyspark.sql.types import IntegerType\n",
    "import seaborn as sns\n",
    "import matplotlib.pyplot as plt\n",
    "from pyspark.ml.evaluation import MulticlassClassificationEvaluator,BinaryClassificationEvaluator\n",
    "from pyspark.ml.tuning import CrossValidator, ParamGridBuilder\n",
    "from pyspark.ml.classification import DecisionTreeClassifier\n",
    "from pyspark.ml.classification import LogisticRegression\n",
    "from pyspark.ml.classification import RandomForestClassifier"
   ]
  },
  {
   "cell_type": "code",
   "execution_count": 2,
   "metadata": {},
   "outputs": [],
   "source": [
    "# create a Spark session\n",
    "spark = SparkSession \\\n",
    "        .builder\\\n",
    "        .appName('Sparkify')\\\n",
    "        .getOrCreate()"
   ]
  },
  {
   "cell_type": "markdown",
   "metadata": {},
   "source": [
    "# Load and Exploratory Data\n",
    "The mini-dataset file is `mini_sparkify_event_data.json`. Load and clean the dataset, checking for invalid or missing data"
   ]
  },
  {
   "cell_type": "code",
   "execution_count": 3,
   "metadata": {},
   "outputs": [],
   "source": [
    "class load_clean:\n",
    "    \n",
    "    \"\"\"\n",
    "    Build a class to be load and show the characters of dataset and remove the records without \"userId\"\n",
    "    \n",
    "    \"\"\"\n",
    "    \n",
    "\n",
    "    def __init__(self, dataset):\n",
    "        \n",
    "        \"\"\"\n",
    "        INPUT: (json) dataset file\n",
    "    \n",
    "        OUTPUT: print the characters of dataset:The amount of record, the Schema, the summary of missing value\n",
    "        \"\"\"\n",
    "        #read dataset from file\n",
    "        self.data = dataset\n",
    "        self.user_log = spark.read.json(self.data)\n",
    "        \n",
    "        #print the characters of dataset\n",
    "        print('the data has been load...')\n",
    "        print('----------------------------------------------------------------------------------------------------------------------')\n",
    "        \n",
    "        print('The amount of record in origin dataset:', self.user_log.count(),'.The amount of fields in origin dataset:',len(self.user_log.columns))\n",
    "        print('----------------------------------------------------------------------------------------------------------------------')\n",
    "        \n",
    "        print('the first record is', self.user_log.head())\n",
    "        print('----------------------------------------------------------------------------------------------------------------------')\n",
    "        \n",
    "        print('the Schema:')\n",
    "        print(self.user_log.printSchema())\n",
    "        print('----------------------------------------------------------------------------------------------------------------------')\n",
    "        \n",
    "        print('the summary of missing value')\n",
    "        print(self.user_log.select([count(when(col(colu).isNull() | isnan(colu) , colu))\\\n",
    "         .alias(colu) for colu in self.user_log.columns])\\\n",
    "         .collect())\n",
    "        print('----------------------------------------------------------------------------------------------------------------------')\n",
    "        \n",
    "    def clean(self):\n",
    "        \n",
    "        # remove rows with empty userId\n",
    "        self.user_log_cleaned = self.user_log.filter(self.user_log[\"userId\"] != \"\")\n",
    "        print('The cleaned data has been created')\n",
    "        print('----------------------------------------------------------------------------------------------------------------------')\n",
    "        \n",
    "        #show the amount of records in new user_log\n",
    "        print('The amount of records in The cleaned data:' , self.user_log_cleaned.count())\n",
    "        print('----------------------------------------------------------------------------------------------------------------------')\n",
    "        \n",
    "        return  self.user_log_cleaned"
   ]
  },
  {
   "cell_type": "code",
   "execution_count": 4,
   "metadata": {
    "scrolled": true
   },
   "outputs": [
    {
     "name": "stdout",
     "output_type": "stream",
     "text": [
      "the data has been load...\n",
      "----------------------------------------------------------------------------------------------------------------------\n",
      "The amount of record in origin dataset: 286500 .The amount of fields in origin dataset: 18\n",
      "----------------------------------------------------------------------------------------------------------------------\n",
      "the first record is Row(artist='Martha Tilston', auth='Logged In', firstName='Colin', gender='M', itemInSession=50, lastName='Freeman', length=277.89016, level='paid', location='Bakersfield, CA', method='PUT', page='NextSong', registration=1538173362000, sessionId=29, song='Rockpools', status=200, ts=1538352117000, userAgent='Mozilla/5.0 (Windows NT 6.1; WOW64; rv:31.0) Gecko/20100101 Firefox/31.0', userId='30')\n",
      "----------------------------------------------------------------------------------------------------------------------\n",
      "the Schema:\n",
      "root\n",
      " |-- artist: string (nullable = true)\n",
      " |-- auth: string (nullable = true)\n",
      " |-- firstName: string (nullable = true)\n",
      " |-- gender: string (nullable = true)\n",
      " |-- itemInSession: long (nullable = true)\n",
      " |-- lastName: string (nullable = true)\n",
      " |-- length: double (nullable = true)\n",
      " |-- level: string (nullable = true)\n",
      " |-- location: string (nullable = true)\n",
      " |-- method: string (nullable = true)\n",
      " |-- page: string (nullable = true)\n",
      " |-- registration: long (nullable = true)\n",
      " |-- sessionId: long (nullable = true)\n",
      " |-- song: string (nullable = true)\n",
      " |-- status: long (nullable = true)\n",
      " |-- ts: long (nullable = true)\n",
      " |-- userAgent: string (nullable = true)\n",
      " |-- userId: string (nullable = true)\n",
      "\n",
      "None\n",
      "----------------------------------------------------------------------------------------------------------------------\n",
      "the summary of missing value\n",
      "[Row(artist=58392, auth=0, firstName=8346, gender=8346, itemInSession=0, lastName=8346, length=58392, level=0, location=8346, method=0, page=0, registration=8346, sessionId=0, song=58392, status=0, ts=0, userAgent=8346, userId=0)]\n",
      "----------------------------------------------------------------------------------------------------------------------\n",
      "The cleaned data has been created\n",
      "----------------------------------------------------------------------------------------------------------------------\n",
      "The amount of records in The cleaned data: 278154\n",
      "----------------------------------------------------------------------------------------------------------------------\n"
     ]
    }
   ],
   "source": [
    "dataset = 'mini_sparkify_event_data.json'\n",
    "\n",
    "#Get data\n",
    "data = load_clean(dataset).clean()"
   ]
  },
  {
   "cell_type": "code",
   "execution_count": 5,
   "metadata": {},
   "outputs": [],
   "source": [
    "def columnsGroupbyType(input_dataframe):\n",
    "                       \n",
    "    \"\"\"\n",
    "    INPUT: dataset\n",
    "    OUTPUT: A series include the groups of columns \n",
    "    \"\"\"\n",
    "    type_df = pd.DataFrame(input_dataframe.dtypes)\n",
    "    type_df.columns = ['column', 'type']\n",
    "    result = (type_df.groupby('type')['column'].apply(list), type_df.groupby('type')['column'].apply(list).index[:])\n",
    "    \n",
    "    print('There are {} typies values in dataset.'.format(len(result[1])))\n",
    "    print('Show below...')\n",
    "    for i in range(len(result[1])):\n",
    "        print('typy: ',result[1][i])\n",
    "        print(result[0][i])\n",
    "        \n",
    "    return result"
   ]
  },
  {
   "cell_type": "code",
   "execution_count": 6,
   "metadata": {},
   "outputs": [],
   "source": [
    "def data_describe(info, dataset):\n",
    "    \n",
    "    \"\"\"\n",
    "    INPUT: dataset, information of columns\n",
    "    OUTPUT: the static analysis of columns\n",
    "    \"\"\"\n",
    "    for i in range(len(info[1])):\n",
    "        if len(info[0][i])<=8:\n",
    "            dataset.select(info[0][i]) \\\n",
    "                 .describe() \\\n",
    "                 .show()\n",
    "        else:\n",
    "            start  = 0\n",
    "            end = 8\n",
    "            while end < len(info[0][i]):\n",
    "                dataset.select(info[0][i][start : end]) \\\n",
    "                 .describe() \\\n",
    "                 .show()    \n",
    "                start = end\n",
    "                end = end + 8\n",
    "            if start <  len(info[0][i]):\n",
    "                 dataset.select(info[0][i][start:]) \\\n",
    "                 .describe() \\\n",
    "                 .show()  \n",
    "                          \n",
    "    return"
   ]
  },
  {
   "cell_type": "code",
   "execution_count": 7,
   "metadata": {
    "scrolled": true
   },
   "outputs": [
    {
     "name": "stdout",
     "output_type": "stream",
     "text": [
      "There are 3 typies values in dataset.\n",
      "Show below...\n",
      "typy:  bigint\n",
      "['itemInSession', 'registration', 'sessionId', 'status', 'ts']\n",
      "typy:  double\n",
      "['length']\n",
      "typy:  string\n",
      "['artist', 'auth', 'firstName', 'gender', 'lastName', 'level', 'location', 'method', 'page', 'song', 'userAgent', 'userId']\n",
      "+-------+------------------+--------------------+------------------+------------------+--------------------+\n",
      "|summary|     itemInSession|        registration|         sessionId|            status|                  ts|\n",
      "+-------+------------------+--------------------+------------------+------------------+--------------------+\n",
      "|  count|            278154|              278154|            278154|            278154|              278154|\n",
      "|   mean|114.89918174824018|1.535358834084427...|1042.5616241362698|209.10321620397335|1.540958915431871...|\n",
      "| stddev|  129.851729399489| 3.291321616327586E9| 726.5010362219813|30.151388851328214|1.5068287123306298E9|\n",
      "|    min|                 0|       1521380675000|                 1|               200|       1538352117000|\n",
      "|    max|              1321|       1543247354000|              2474|               404|       1543799476000|\n",
      "+-------+------------------+--------------------+------------------+------------------+--------------------+\n",
      "\n",
      "+-------+-----------------+\n",
      "|summary|           length|\n",
      "+-------+-----------------+\n",
      "|  count|           228108|\n",
      "|   mean|249.1171819778458|\n",
      "| stddev|99.23517921058361|\n",
      "|    min|          0.78322|\n",
      "|    max|       3024.66567|\n",
      "+-------+-----------------+\n",
      "\n",
      "+-------+------------------+---------+---------+------+--------+------+-----------------+------+\n",
      "|summary|            artist|     auth|firstName|gender|lastName| level|         location|method|\n",
      "+-------+------------------+---------+---------+------+--------+------+-----------------+------+\n",
      "|  count|            228108|   278154|   278154|278154|  278154|278154|           278154|278154|\n",
      "|   mean| 551.0852017937219|     null|     null|  null|    null|  null|             null|  null|\n",
      "| stddev|1217.7693079161374|     null|     null|  null|    null|  null|             null|  null|\n",
      "|    min|               !!!|Cancelled| Adelaida|     F|   Adams|  free|       Albany, OR|   GET|\n",
      "|    max| ÃÂlafur Arnalds|Logged In|   Zyonna|     M|  Wright|  paid|Winston-Salem, NC|   PUT|\n",
      "+-------+------------------+---------+---------+------+--------+------+-----------------+------+\n",
      "\n",
      "+-------+-------+--------------------+--------------------+-----------------+\n",
      "|summary|   page|                song|           userAgent|           userId|\n",
      "+-------+-------+--------------------+--------------------+-----------------+\n",
      "|  count| 278154|              228108|              278154|           278154|\n",
      "|   mean|   null|            Infinity|                null|59682.02278593872|\n",
      "| stddev|   null|                 NaN|                null|109091.9499991047|\n",
      "|    min|  About|\u001c",
      "ÃÂg ÃÂtti Gr...|\"Mozilla/5.0 (Mac...|               10|\n",
      "|    max|Upgrade|ÃÂau hafa slopp...|Mozilla/5.0 (comp...|               99|\n",
      "+-------+-------+--------------------+--------------------+-----------------+\n",
      "\n"
     ]
    }
   ],
   "source": [
    "info_columns = columnsGroupbyType(data)\n",
    "data_describe(info_columns,data)"
   ]
  },
  {
   "cell_type": "code",
   "execution_count": 8,
   "metadata": {
    "scrolled": true
   },
   "outputs": [
    {
     "name": "stdout",
     "output_type": "stream",
     "text": [
      "+----------------------+\n",
      "|count(DISTINCT userId)|\n",
      "+----------------------+\n",
      "|                   225|\n",
      "+----------------------+\n",
      "\n"
     ]
    }
   ],
   "source": [
    "#show the numders of user\n",
    "number_users = data.select(countDistinct(\"userId\"))\n",
    "number_users.show()"
   ]
  },
  {
   "cell_type": "code",
   "execution_count": 9,
   "metadata": {},
   "outputs": [],
   "source": [
    "def dsitribution_column(col, dataset):\n",
    "    \"\"\"\n",
    "    \n",
    "    INPUT: dataset, specfic columns\n",
    "    OUTPUT: the distribution of specific columns in dataset\n",
    "    \"\"\"\n",
    "    \n",
    "    for c in col:\n",
    "\n",
    "        col_stat = dataset.groupBy(c).count().orderBy(c)\n",
    "        col_stat.show()\n",
    "        ax = sns.barplot(x=c,y='count',data=col_stat.toPandas(),color='blue')\n",
    "        plt.savefig('{}.jpg'.format(c))\n"
   ]
  },
  {
   "cell_type": "code",
   "execution_count": 10,
   "metadata": {
    "scrolled": true
   },
   "outputs": [
    {
     "name": "stdout",
     "output_type": "stream",
     "text": [
      "+------+------+\n",
      "|gender| count|\n",
      "+------+------+\n",
      "|     F|154578|\n",
      "|     M|123576|\n",
      "+------+------+\n",
      "\n",
      "+-----+------+\n",
      "|level| count|\n",
      "+-----+------+\n",
      "| free| 55721|\n",
      "| paid|222433|\n",
      "+-----+------+\n",
      "\n",
      "+------+------+\n",
      "|method| count|\n",
      "+------+------+\n",
      "|   GET| 20336|\n",
      "|   PUT|257818|\n",
      "+------+------+\n",
      "\n",
      "+------+------+\n",
      "|status| count|\n",
      "+------+------+\n",
      "|   200|254718|\n",
      "|   307| 23184|\n",
      "|   404|   252|\n",
      "+------+------+\n",
      "\n"
     ]
    },
    {
     "data": {
      "image/png": "[encoded data removed]",
      "text/plain": [
       "<matplotlib.figure.Figure at 0x7f28f756ceb8>"
      ]
     },
     "metadata": {
      "needs_background": "light"
     },
     "output_type": "display_data"
    }
   ],
   "source": [
    "columns = [\"gender\",\"level\",\"method\",\"status\"]\n",
    "dsitribution_column(columns, data)"
   ]
  },
  {
   "cell_type": "markdown",
   "metadata": {},
   "source": [
    "# Create churn label"
   ]
  },
  {
   "cell_type": "code",
   "execution_count": 11,
   "metadata": {
    "scrolled": true
   },
   "outputs": [
    {
     "name": "stdout",
     "output_type": "stream",
     "text": [
      "+--------------------+----------+\n",
      "|                page|page_count|\n",
      "+--------------------+----------+\n",
      "|              Cancel|        52|\n",
      "|    Submit Downgrade|        63|\n",
      "|         Thumbs Down|      2546|\n",
      "|                Home|     10082|\n",
      "|           Downgrade|      2055|\n",
      "|         Roll Advert|      3933|\n",
      "|              Logout|      3226|\n",
      "|       Save Settings|       310|\n",
      "|Cancellation Conf...|        52|\n",
      "|               About|       495|\n",
      "|            Settings|      1514|\n",
      "|     Add to Playlist|      6526|\n",
      "|          Add Friend|      4277|\n",
      "|            NextSong|    228108|\n",
      "|           Thumbs Up|     12551|\n",
      "|                Help|      1454|\n",
      "|             Upgrade|       499|\n",
      "|               Error|       252|\n",
      "|      Submit Upgrade|       159|\n",
      "+--------------------+----------+\n",
      "\n"
     ]
    }
   ],
   "source": [
    "#page values\n",
    "page_stat= data.groupby('page').agg({'page':'count'}).withColumnRenamed(\"count(page)\", \"page_count\")\n",
    "page_stat.show()"
   ]
  },
  {
   "cell_type": "code",
   "execution_count": 12,
   "metadata": {
    "scrolled": true
   },
   "outputs": [
    {
     "name": "stdout",
     "output_type": "stream",
     "text": [
      "+------+\n",
      "|userID|\n",
      "+------+\n",
      "|18    |\n",
      "|18    |\n",
      "|32    |\n",
      "|32    |\n",
      "|125   |\n",
      "+------+\n",
      "only showing top 5 rows\n",
      "\n"
     ]
    }
   ],
   "source": [
    "cancel_Cancellation_account = data.filter(col('page').isin(['Cancel','Cancellation Confirmation'])).select(['userID'])\n",
    "cancel_Cancellation_account.show(5,False)"
   ]
  },
  {
   "cell_type": "markdown",
   "metadata": {},
   "source": [
    "The number of cancel is same with the number of cancellation conformation. users get cancel conformation after did cancel action. This result show that the 'cancel' and 'Cancellation Confirmation' are duplicate records. Then I would only select 'Cancellation Confirmation' as churn = 1"
   ]
  },
  {
   "cell_type": "code",
   "execution_count": 13,
   "metadata": {
    "scrolled": false
   },
   "outputs": [
    {
     "data": {
      "text/plain": [
       "Row(artist='Martha Tilston', auth='Logged In', firstName='Colin', gender='M', itemInSession=50, lastName='Freeman', length=277.89016, level='paid', location='Bakersfield, CA', method='PUT', page='NextSong', registration=1538173362000, sessionId=29, song='Rockpools', status=200, ts=1538352117000, userAgent='Mozilla/5.0 (Windows NT 6.1; WOW64; rv:31.0) Gecko/20100101 Firefox/31.0', userId='30', label=0)"
      ]
     },
     "execution_count": 13,
     "metadata": {},
     "output_type": "execute_result"
    }
   ],
   "source": [
    "# define churn\n",
    "define_churn = udf(lambda x: 1 if x == \"Cancellation Confirmation\" else 0, IntegerType())\n",
    "# add feature label \n",
    "data_new = data.withColumn(\"label\", define_churn(\"page\"))\n",
    "# print top 5\n",
    "data_new.head()"
   ]
  },
  {
   "cell_type": "markdown",
   "metadata": {},
   "source": [
    "# Data engineering\n"
   ]
  },
  {
   "cell_type": "code",
   "execution_count": 14,
   "metadata": {},
   "outputs": [],
   "source": [
    "\n",
    "\n",
    "def creat_features(data):\n",
    "    \n",
    "    \"\"\"\n",
    "    create new features\n",
    "    INPUT: dataset\n",
    "    OUTPUT: dataset with new features\n",
    "    \"\"\"\n",
    "    \n",
    "    columns = [\"userId\",\"song\", \"gender\", \"level\", \"page\", \"label\"]\n",
    "    data = data_new.select(columns)\n",
    "    # define gender_new\n",
    "    define_gender_new = udf(lambda x: 1 if x == \"M\" else 0, IntegerType())\n",
    "    # add feature GenderNew\n",
    "    data = data.withColumn(\"GenderNew\", define_gender_new(\"gender\"))\n",
    "\n",
    "\n",
    "    # define level_new\n",
    "    define_level_new = udf(lambda x: 1 if x == \"paid\" else 0, IntegerType())\n",
    "    # add feature LevelNew\n",
    "    data = data.withColumn(\"LevelNew\", define_level_new(\"level\"))\n",
    "\n",
    "    # define downgrade\n",
    "    define_downgrade = udf(lambda x: 1 if x == \"Submit Downgrade\" else 0, IntegerType())\n",
    "    # add feature downgrade\n",
    "    data = data.withColumn(\"Downgrade\", define_downgrade(\"page\"))\n",
    "\n",
    "    # define thumbs_up\n",
    "    define_thumbs_up = udf(lambda x: 1 if x == \"Thumbs Up\" else 0, IntegerType())\n",
    "    # add thumbs variables\n",
    "    data = data.withColumn(\"ThumbsUp\", define_thumbs_up(\"page\"))\n",
    "\n",
    "    # define thumbs_down\n",
    "    define_thumbs_down = udf(lambda x: 1 if x == \"Thumbs Down\" else 0, IntegerType())\n",
    "    # add thumbs variables\n",
    "    data= data.withColumn(\"ThumbsDown\", define_thumbs_down(\"page\"))\n",
    "\n",
    "    # define NextSong\n",
    "    define_NextSong = udf(lambda x: 1 if x == \"NextSong\" else 0, IntegerType())\n",
    "    # add songs variable\n",
    "    data = data.withColumn(\"NextSong\", define_NextSong(\"page\"))\n",
    "    \n",
    "    return data"
   ]
  },
  {
   "cell_type": "code",
   "execution_count": 15,
   "metadata": {
    "scrolled": true
   },
   "outputs": [
    {
     "name": "stdout",
     "output_type": "stream",
     "text": [
      "+------+---------+--------+--------+----------+---------+--------+\n",
      "|userId|GenderNew|LevelNew|ThumbsUp|ThumbsDown|Downgrade|NextSong|\n",
      "+------+---------+--------+--------+----------+---------+--------+\n",
      "|    30|        1|       1|       0|         0|        0|       1|\n",
      "|     9|        1|       0|       0|         0|        0|       1|\n",
      "|    30|        1|       1|       0|         0|        0|       1|\n",
      "|     9|        1|       0|       0|         0|        0|       1|\n",
      "|    30|        1|       1|       0|         0|        0|       1|\n",
      "+------+---------+--------+--------+----------+---------+--------+\n",
      "only showing top 5 rows\n",
      "\n"
     ]
    }
   ],
   "source": [
    "data_new = creat_features(data_new)\n",
    "#show the new features\n",
    "data_new.select([\"userId\",\"GenderNew\",\"LevelNew\",\"ThumbsUp\", \"ThumbsDown\",\"Downgrade\",\"NextSong\"]).show(5)"
   ]
  },
  {
   "cell_type": "code",
   "execution_count": 16,
   "metadata": {
    "scrolled": false
   },
   "outputs": [
    {
     "name": "stdout",
     "output_type": "stream",
     "text": [
      "+------+---------+---------+--------+------------+------------+--------------+-----+\n",
      "|userId|Downgrade|GenderNew|LevelNew|sum_NextSong|sum_thumbsUp|sum_ThumbsDown|label|\n",
      "+------+---------+---------+--------+------------+------------+--------------+-----+\n",
      "|100010|        0|        0|       0|         275|          17|             5|    0|\n",
      "|200002|        0|        1|       1|         387|          21|             6|    0|\n",
      "|   125|        0|        1|       0|           8|           0|             0|    1|\n",
      "|    51|        0|        1|       1|        2111|         100|            21|    1|\n",
      "|   124|        0|        0|       1|        4079|         171|            41|    0|\n",
      "+------+---------+---------+--------+------------+------------+--------------+-----+\n",
      "only showing top 5 rows\n",
      "\n"
     ]
    }
   ],
   "source": [
    "def new_features(data):\n",
    "    \n",
    "    \"\"\"\n",
    "    data engineering for some columns, example: the sum of nextsong\n",
    "    INPUT: dataset\n",
    "    OUTPUT: \n",
    "    \"\"\"\n",
    "    \n",
    "    data_new_features = data.groupby(data_new.userId).agg({\"Downgrade\": \"max\", \n",
    "                                                  \"GenderNew\": \"max\",\n",
    "                                                  \"LevelNew\": \"max\",\n",
    "                                                  \"NextSong\": \"sum\",\n",
    "                                                  \"ThumbsUp\": \"sum\",\n",
    "                                                  \"ThumbsDown\": \"sum\",\n",
    "                                                  \"label\": \"max\"}) \n",
    "    data_new_features = data_new_features.select(col(\"userId\"),\n",
    "                                       col(\"max(Downgrade)\").alias(\"Downgrade\"),\n",
    "                                       col(\"max(GenderNew)\").alias(\"GenderNew\"),\n",
    "                                       col(\"max(LevelNew)\").alias(\"LevelNew\"),\n",
    "                                       col(\"sum(NextSong)\").alias(\"sum_NextSong\"),\n",
    "                                       col(\"sum(ThumbsUp)\").alias(\"sum_thumbsUp\"),\n",
    "                                       col(\"sum(ThumbsDown)\").alias(\"sum_ThumbsDown\"),\n",
    "                                       col(\"max(label)\").alias(\"label\"))\n",
    "    return data_new_features\n",
    "\n",
    "# present result\n",
    "data_new_features = new_features(data_new)\n",
    "data_new_features.show(5)"
   ]
  },
  {
   "cell_type": "code",
   "execution_count": 17,
   "metadata": {},
   "outputs": [],
   "source": [
    "def oversampling(data):\n",
    "    a= data.filter(col(\"label\") == False).count()\n",
    "    b = data.filter(col(\"label\") == True).count()\n",
    "    if a > b:\n",
    "        major_user_log = data.filter(col(\"label\") == False)\n",
    "        minor_user_log = data.filter(col(\"label\") == True)\n",
    "    else:\n",
    "        major_user_log = data.filter(col(\"label\") == True)\n",
    "        minor_user_log = data.filter(col(\"label\") == False)\n",
    "        \n",
    "    ratio = int(major_user_log.count()/minor_user_log.count())\n",
    "    print(\"the amount of majority : {}.   the amount of minority : {} \".format(major_user_log.count(),minor_user_log.count()))\n",
    "    print(\"the ratio is {}\".format(ratio))\n",
    "\n",
    "    # duplicate the minority rows\n",
    "    oversampled_user_log = minor_user_log.withColumn(\"dummy\", explode(array([lit(x) for x in range(ratio)]))).drop('dummy')\n",
    "    # combine both oversampled minority rows and previous majority rows \n",
    "    combined_data = major_user_log.unionAll(oversampled_user_log)\n",
    "    print(\"The amount of records is {} after oversampling\".format(combined_data.count()))\n",
    "\n",
    "    return combined_data"
   ]
  },
  {
   "cell_type": "code",
   "execution_count": 18,
   "metadata": {},
   "outputs": [
    {
     "name": "stdout",
     "output_type": "stream",
     "text": [
      "the amount of majority : 173.   the amount of minority : 52 \n",
      "the ratio is 3\n",
      "The amount of records is 329 after oversampling\n"
     ]
    }
   ],
   "source": [
    "combined_df = oversampling(data_new_features)"
   ]
  },
  {
   "cell_type": "markdown",
   "metadata": {},
   "source": [
    "About unbalence problem\n",
    "\n",
    "class (label) 1 has 52 recoeds, while class 0 has only 173 recoeds. We can undersample class 0, or oversample class 1.\n",
    "These changes are called sampling the dataset \n",
    "Here I choosed the oversampling, It is to duplicate the samples from under-represented class, to inflate the numbers till it reaches the same level as the dominant class."
   ]
  },
  {
   "cell_type": "code",
   "execution_count": 19,
   "metadata": {},
   "outputs": [],
   "source": [
    "def transfer_feature(data):\n",
    "    #transfer the features to vector\n",
    "    assembler = VectorAssembler(inputCols=[\"Downgrade\", \"LevelNew\", \"sum_NextSong\", \"sum_thumbsUp\",\"sum_ThumbsDown\"], outputCol=\"features\")\n",
    "    combined_data = assembler.transform(data)\n",
    "    combined_data.select('label', 'features').show(4)\n",
    "    return combined_data"
   ]
  },
  {
   "cell_type": "code",
   "execution_count": 20,
   "metadata": {},
   "outputs": [
    {
     "name": "stdout",
     "output_type": "stream",
     "text": [
      "+-----+--------------------+\n",
      "|label|            features|\n",
      "+-----+--------------------+\n",
      "|    0|[0.0,0.0,275.0,17...|\n",
      "|    0|[0.0,1.0,387.0,21...|\n",
      "|    0|[0.0,1.0,4079.0,1...|\n",
      "|    0|[0.0,0.0,150.0,7....|\n",
      "+-----+--------------------+\n",
      "only showing top 4 rows\n",
      "\n"
     ]
    }
   ],
   "source": [
    "combined_df = transfer_feature(combined_df)"
   ]
  },
  {
   "cell_type": "markdown",
   "metadata": {},
   "source": [
    "# Modeling"
   ]
  },
  {
   "cell_type": "code",
   "execution_count": 21,
   "metadata": {},
   "outputs": [],
   "source": [
    "def split_data(data):\n",
    "    df_label_0 = combined_df.filter(data.label == 0)\n",
    "    df_label_1 = combined_df.filter(data.label == 1)\n",
    "    \n",
    "    \n",
    "    (trainData_0, tempData_0)= df_label_0.randomSplit(weights = [0.70,0.30])\n",
    "    (valiData_0, testData_0)= tempData_0.randomSplit(weights = [0.50,0.50])\n",
    "    \n",
    "      \n",
    "    (trainData_1, tempData_1)= df_label_1.randomSplit(weights = [0.70,0.30])\n",
    "    (valiData_1, testData_1)= tempData_1.randomSplit(weights = [0.50,0.50])\n",
    "    \n",
    "    trainData = trainData_0.union(trainData_1)\n",
    "    valiData = valiData_0.union(valiData_1)\n",
    "    testData = testData_0.union(testData_1)\n",
    "    \n",
    "    return trainData, valiData, testData\n",
    "\n",
    "trainData, valiData, testData = split_data(combined_df)"
   ]
  },
  {
   "cell_type": "code",
   "execution_count": 22,
   "metadata": {},
   "outputs": [],
   "source": [
    "def evaluation(prediction, data_name):\n",
    "    \n",
    "    \"\"\"\n",
    "    INPUT: prediction model, data_name \n",
    "    OUTPUT: the F1 score, accuracy, error of model\n",
    "    \"\"\"\n",
    "    evaluator = MulticlassClassificationEvaluator(labelCol=\"indexedLabel\", predictionCol=\"prediction\", metricName=\"accuracy\")\n",
    "    accuracy = evaluator.evaluate(prediction)\n",
    "    f1_score_evaluator = MulticlassClassificationEvaluator(labelCol=\"indexedLabel\", predictionCol=\"prediction\",metricName='f1')\n",
    "    f1_score = f1_score_evaluator.evaluate(prediction)\n",
    "    print(\"-----------------------------------------------------------------------------------------------------------------------\")\n",
    "    print(\"Evaluation on \", data_name)\n",
    "    print(\"Accuracy = %g\" % accuracy)\n",
    "    print(\"Validation Error = %g\" % (1.0 - accuracy))\n",
    "    print(\"F1 score = %g\" % (f1_score))\n",
    "    print(\"-----------------------------------------------------------------------------------------------------------------------\")\n",
    "    \n",
    "    return"
   ]
  },
  {
   "cell_type": "code",
   "execution_count": 23,
   "metadata": {
    "scrolled": false
   },
   "outputs": [
    {
     "name": "stdout",
     "output_type": "stream",
     "text": [
      "model: LogisticRegression_7e247ebce3a9\n",
      "[StringIndexer_a3ccabf9a287, VectorIndexer_1f0be14c57ca, LogisticRegressionModel: uid = LogisticRegression_7e247ebce3a9, numClasses = 2, numFeatures = 5, IndexToString_b10948c187cc]\n",
      "-----------------------------------------------------------------------------------------------------------------------\n",
      "Evaluation on  validation data\n",
      "Accuracy = 0.535714\n",
      "Validation Error = 0.464286\n",
      "F1 score = 0.535714\n",
      "-----------------------------------------------------------------------------------------------------------------------\n",
      "-----------------------------------------------------------------------------------------------------------------------\n",
      "Evaluation on  test data\n",
      "Accuracy = 0.522727\n",
      "Validation Error = 0.477273\n",
      "F1 score = 0.518981\n",
      "-----------------------------------------------------------------------------------------------------------------------\n",
      "model: DecisionTreeClassifier_08aeb1e7d641\n",
      "[StringIndexer_a3ccabf9a287, VectorIndexer_1f0be14c57ca, DecisionTreeClassificationModel (uid=DecisionTreeClassifier_08aeb1e7d641) of depth 5 with 25 nodes, IndexToString_b10948c187cc]\n",
      "-----------------------------------------------------------------------------------------------------------------------\n",
      "Evaluation on  validation data\n",
      "Accuracy = 0.607143\n",
      "Validation Error = 0.392857\n",
      "F1 score = 0.597689\n",
      "-----------------------------------------------------------------------------------------------------------------------\n",
      "-----------------------------------------------------------------------------------------------------------------------\n",
      "Evaluation on  test data\n",
      "Accuracy = 0.568182\n",
      "Validation Error = 0.431818\n",
      "F1 score = 0.567512\n",
      "-----------------------------------------------------------------------------------------------------------------------\n",
      "model: RandomForestClassifier_3adef62aaaed\n",
      "[StringIndexer_a3ccabf9a287, VectorIndexer_1f0be14c57ca, RandomForestClassificationModel (uid=RandomForestClassifier_3adef62aaaed) with 10 trees, IndexToString_b10948c187cc]\n",
      "-----------------------------------------------------------------------------------------------------------------------\n",
      "Evaluation on  validation data\n",
      "Accuracy = 0.642857\n",
      "Validation Error = 0.357143\n",
      "F1 score = 0.634263\n",
      "-----------------------------------------------------------------------------------------------------------------------\n",
      "-----------------------------------------------------------------------------------------------------------------------\n",
      "Evaluation on  test data\n",
      "Accuracy = 0.590909\n",
      "Validation Error = 0.409091\n",
      "F1 score = 0.590909\n",
      "-----------------------------------------------------------------------------------------------------------------------\n"
     ]
    }
   ],
   "source": [
    "results = {}\n",
    "#classifier = [LogisticRegression(maxIter=50), DecisionTreeClassifier(seed=42),RandomForestClassifier(numTrees=10, seed=42)]\n",
    "classifier = [LogisticRegression(), DecisionTreeClassifier(seed=42),RandomForestClassifier(numTrees=10, seed=42)]\n",
    "labelIndexer = StringIndexer(inputCol=\"label\", outputCol=\"indexedLabel\").fit(trainData)\n",
    "featureIndexer =VectorIndexer(inputCol=\"features\", outputCol=\"indexedFeatures\", maxCategories=4).fit(trainData)\n",
    "# Convert indexed labels back to original labels.\n",
    "label_new = IndexToString(inputCol=\"prediction\", outputCol=\"predictedLabel\",\n",
    "                               labels=labelIndexer.labels)\n",
    "for c in classifier:\n",
    "    # build pipeline and train model\n",
    "    c__labelCol=\"indexedLabel\"\n",
    "    c__featuresCol=\"indexedFeatures\"\n",
    "    \n",
    "    # Chain indexers and forest in a Pipeline\n",
    "    pipeline = Pipeline(stages=[labelIndexer, featureIndexer, c, label_new])\n",
    "    \n",
    "    # Train model.  This also runs the indexers.\n",
    "    model = pipeline.fit(trainData)\n",
    "    \n",
    "    # Make predictions.\n",
    "    predictions = model.transform(valiData)\n",
    "    \n",
    "    print('model:',c)\n",
    "    print(model.stages)\n",
    "    evaluation(predictions, 'validation data')\n",
    "    \n",
    "    #run function evaluation on test dataset\n",
    "    predictions = model.transform(testData)\n",
    "    evaluation(predictions,'test data')"
   ]
  },
  {
   "cell_type": "markdown",
   "metadata": {},
   "source": [
    " # Tuning "
   ]
  },
  {
   "cell_type": "code",
   "execution_count": 24,
   "metadata": {},
   "outputs": [],
   "source": [
    "dt = DecisionTreeClassifier()\n",
    "pipeline_1 = Pipeline(stages=[labelIndexer, featureIndexer, dt, label_new])\n",
    "param_grid_1 = ParamGridBuilder().\\\n",
    "            addGrid(dt.maxDepth, [5,7,9]).\\\n",
    "            build()\n",
    "cv_1 = CrossValidator(estimator=pipeline_1, \n",
    "                    estimatorParamMaps = param_grid_1, \n",
    "                    evaluator = MulticlassClassificationEvaluator(metricName='f1'),\n",
    "                    numFolds=3)\n",
    "cv_model_1 = cv_1.fit(trainData)\n",
    "best_model_1 = cv_model_1.bestModel "
   ]
  },
  {
   "cell_type": "code",
   "execution_count": 25,
   "metadata": {},
   "outputs": [
    {
     "name": "stdout",
     "output_type": "stream",
     "text": [
      "model: DecisionTreeClassifier_5ee2854f62d4\n",
      "[StringIndexer_a3ccabf9a287, VectorIndexer_1f0be14c57ca, DecisionTreeClassificationModel (uid=DecisionTreeClassifier_5ee2854f62d4) of depth 9 with 81 nodes, IndexToString_b10948c187cc]\n",
      "-----------------------------------------------------------------------------------------------------------------------\n",
      "Evaluation on  validation data\n",
      "Accuracy = 0.892857\n",
      "Validation Error = 0.107143\n",
      "F1 score = 0.892299\n",
      "-----------------------------------------------------------------------------------------------------------------------\n",
      "-----------------------------------------------------------------------------------------------------------------------\n",
      "Evaluation on  test data\n",
      "Accuracy = 0.613636\n",
      "Validation Error = 0.386364\n",
      "F1 score = 0.613836\n",
      "-----------------------------------------------------------------------------------------------------------------------\n"
     ]
    }
   ],
   "source": [
    "print('model:',dt)\n",
    "print(cv_model_1.bestModel.stages)   \n",
    "#run function evaluation on validation dataset\n",
    "predictions_1 = best_model_1.transform(valiData)\n",
    "evaluation(predictions_1, 'validation data')\n",
    "\n",
    "#run function evaluation on test dataset\n",
    "predictions_1 = best_model_1.transform(testData)\n",
    "evaluation(predictions_1,'test data')"
   ]
  },
  {
   "cell_type": "code",
   "execution_count": 28,
   "metadata": {},
   "outputs": [],
   "source": [
    "rf = RandomForestClassifier()\n",
    "pipeline_2 = Pipeline(stages=[labelIndexer, featureIndexer, rf, label_new])\n",
    "param_grid_2 = ParamGridBuilder().\\\n",
    "            addGrid(rf.numTrees, [10,13,17]).\\\n",
    "            build()\n",
    "cv_2 = CrossValidator(estimator=pipeline_2, \n",
    "                    estimatorParamMaps = param_grid_2, \n",
    "                    evaluator = MulticlassClassificationEvaluator(metricName='f1'),\n",
    "                    numFolds=3)\n",
    "cv_model_2 = cv_2.fit(trainData)\n",
    "best_model_2 = cv_model_2.bestModel"
   ]
  },
  {
   "cell_type": "code",
   "execution_count": 29,
   "metadata": {},
   "outputs": [
    {
     "name": "stdout",
     "output_type": "stream",
     "text": [
      "model: RandomForestClassifier_e80937746c80\n",
      "[StringIndexer_a3ccabf9a287, VectorIndexer_1f0be14c57ca, RandomForestClassificationModel (uid=RandomForestClassifier_e80937746c80) with 17 trees, IndexToString_b10948c187cc]\n",
      "-----------------------------------------------------------------------------------------------------------------------\n",
      "Evaluation on  validation data\n",
      "Accuracy = 0.696429\n",
      "Validation Error = 0.303571\n",
      "F1 score = 0.696916\n",
      "-----------------------------------------------------------------------------------------------------------------------\n",
      "-----------------------------------------------------------------------------------------------------------------------\n",
      "Evaluation on  test data\n",
      "Accuracy = 0.636364\n",
      "Validation Error = 0.363636\n",
      "F1 score = 0.634848\n",
      "-----------------------------------------------------------------------------------------------------------------------\n"
     ]
    }
   ],
   "source": [
    "print('model:',rf)\n",
    "print(cv_model_2.bestModel.stages)   \n",
    "#run function evaluation on validation dataset\n",
    "predictions_2 = best_model_2.transform(valiData)\n",
    "evaluation(predictions_2, 'validation data')\n",
    "\n",
    "#run function evaluation on test dataset\n",
    "predictions_2 = best_model_2.transform(testData)\n",
    "evaluation(predictions_2,'test data')"
   ]
  },
  {
   "cell_type": "markdown",
   "metadata": {},
   "source": [
    " # Inprovement"
   ]
  },
  {
   "cell_type": "code",
   "execution_count": 30,
   "metadata": {
    "scrolled": true
   },
   "outputs": [
    {
     "name": "stdout",
     "output_type": "stream",
     "text": [
      "the data has been load...\n",
      "----------------------------------------------------------------------------------------------------------------------\n",
      "The amount of record in origin dataset: 286500 .The amount of fields in origin dataset: 18\n",
      "----------------------------------------------------------------------------------------------------------------------\n",
      "the first record is Row(artist='Martha Tilston', auth='Logged In', firstName='Colin', gender='M', itemInSession=50, lastName='Freeman', length=277.89016, level='paid', location='Bakersfield, CA', method='PUT', page='NextSong', registration=1538173362000, sessionId=29, song='Rockpools', status=200, ts=1538352117000, userAgent='Mozilla/5.0 (Windows NT 6.1; WOW64; rv:31.0) Gecko/20100101 Firefox/31.0', userId='30')\n",
      "----------------------------------------------------------------------------------------------------------------------\n",
      "the Schema:\n",
      "root\n",
      " |-- artist: string (nullable = true)\n",
      " |-- auth: string (nullable = true)\n",
      " |-- firstName: string (nullable = true)\n",
      " |-- gender: string (nullable = true)\n",
      " |-- itemInSession: long (nullable = true)\n",
      " |-- lastName: string (nullable = true)\n",
      " |-- length: double (nullable = true)\n",
      " |-- level: string (nullable = true)\n",
      " |-- location: string (nullable = true)\n",
      " |-- method: string (nullable = true)\n",
      " |-- page: string (nullable = true)\n",
      " |-- registration: long (nullable = true)\n",
      " |-- sessionId: long (nullable = true)\n",
      " |-- song: string (nullable = true)\n",
      " |-- status: long (nullable = true)\n",
      " |-- ts: long (nullable = true)\n",
      " |-- userAgent: string (nullable = true)\n",
      " |-- userId: string (nullable = true)\n",
      "\n",
      "None\n",
      "----------------------------------------------------------------------------------------------------------------------\n",
      "the summary of missing value\n",
      "[Row(artist=58392, auth=0, firstName=8346, gender=8346, itemInSession=0, lastName=8346, length=58392, level=0, location=8346, method=0, page=0, registration=8346, sessionId=0, song=58392, status=0, ts=0, userAgent=8346, userId=0)]\n",
      "----------------------------------------------------------------------------------------------------------------------\n",
      "The cleaned data has been created\n",
      "----------------------------------------------------------------------------------------------------------------------\n",
      "The amount of records in The cleaned data: 278154\n",
      "----------------------------------------------------------------------------------------------------------------------\n"
     ]
    },
    {
     "data": {
      "text/plain": [
       "Row(artist='Martha Tilston', auth='Logged In', firstName='Colin', gender='M', itemInSession=50, lastName='Freeman', length=277.89016, level='paid', location='Bakersfield, CA', method='PUT', page='NextSong', registration=1538173362000, sessionId=29, song='Rockpools', status=200, ts=1538352117000, userAgent='Mozilla/5.0 (Windows NT 6.1; WOW64; rv:31.0) Gecko/20100101 Firefox/31.0', userId='30', label=0)"
      ]
     },
     "execution_count": 30,
     "metadata": {},
     "output_type": "execute_result"
    }
   ],
   "source": [
    "dataset = 'mini_sparkify_event_data.json'\n",
    "#Get data\n",
    "data = load_clean(dataset).clean()\n",
    "# define churn\n",
    "define_churn = udf(lambda x: 1 if x == \"Cancellation Confirmation\" or x ==  \"Downgrade\" else 0, IntegerType())\n",
    "# add feature label \n",
    "data_new = data.withColumn(\"label\", define_churn(\"page\"))\n",
    "# print top 5\n",
    "data_new.head()"
   ]
  },
  {
   "cell_type": "code",
   "execution_count": 31,
   "metadata": {
    "scrolled": true
   },
   "outputs": [
    {
     "name": "stdout",
     "output_type": "stream",
     "text": [
      "+------+---------+--------+--------+----------+---------+--------+\n",
      "|userId|GenderNew|LevelNew|ThumbsUp|ThumbsDown|Downgrade|NextSong|\n",
      "+------+---------+--------+--------+----------+---------+--------+\n",
      "|    30|        1|       1|       0|         0|        0|       1|\n",
      "|     9|        1|       0|       0|         0|        0|       1|\n",
      "|    30|        1|       1|       0|         0|        0|       1|\n",
      "|     9|        1|       0|       0|         0|        0|       1|\n",
      "|    30|        1|       1|       0|         0|        0|       1|\n",
      "+------+---------+--------+--------+----------+---------+--------+\n",
      "only showing top 5 rows\n",
      "\n",
      "+------+---------+---------+--------+------------+------------+--------------+-----+\n",
      "|userId|Downgrade|GenderNew|LevelNew|sum_NextSong|sum_thumbsUp|sum_ThumbsDown|label|\n",
      "+------+---------+---------+--------+------------+------------+--------------+-----+\n",
      "|100010|        0|        0|       0|         275|          17|             5|    0|\n",
      "|200002|        0|        1|       1|         387|          21|             6|    1|\n",
      "|   125|        0|        1|       0|           8|           0|             0|    1|\n",
      "|    51|        0|        1|       1|        2111|         100|            21|    1|\n",
      "|   124|        0|        0|       1|        4079|         171|            41|    1|\n",
      "+------+---------+---------+--------+------------+------------+--------------+-----+\n",
      "only showing top 5 rows\n",
      "\n",
      "the amount of majority : 171.   the amount of minority : 54 \n",
      "the ratio is 3\n",
      "The amount of records is 333 after oversampling\n",
      "+-----+--------------------+\n",
      "|label|            features|\n",
      "+-----+--------------------+\n",
      "|    1|[0.0,1.0,387.0,21...|\n",
      "|    1|       (5,[2],[8.0])|\n",
      "|    1|[0.0,1.0,2111.0,1...|\n",
      "|    1|[0.0,1.0,4079.0,1...|\n",
      "+-----+--------------------+\n",
      "only showing top 4 rows\n",
      "\n"
     ]
    }
   ],
   "source": [
    "data_new = creat_features(data_new)\n",
    "#show the new features\n",
    "data_new.select([\"userId\",\"GenderNew\",\"LevelNew\",\"ThumbsUp\", \"ThumbsDown\",\"Downgrade\",\"NextSong\"]).show(5)\n",
    "data_new_features = new_features(data_new)\n",
    "data_new_features.show(5)\n",
    "combined_df = oversampling(data_new_features)\n",
    "combined_df = transfer_feature(combined_df)"
   ]
  },
  {
   "cell_type": "code",
   "execution_count": 33,
   "metadata": {},
   "outputs": [],
   "source": [
    "trainData, valiData, testData = split_data(combined_df)"
   ]
  },
  {
   "cell_type": "code",
   "execution_count": 35,
   "metadata": {},
   "outputs": [],
   "source": [
    "rf = RandomForestClassifier()\n",
    "pipeline = Pipeline(stages=[labelIndexer, featureIndexer, rf, label_new])\n",
    "param_grid = ParamGridBuilder().\\\n",
    "            addGrid(rf.numTrees, [17]).\\\n",
    "            build()\n",
    "cv = CrossValidator(estimator=pipeline, \n",
    "                    estimatorParamMaps = param_grid, \n",
    "                    evaluator = MulticlassClassificationEvaluator(metricName='f1'),\n",
    "                    numFolds=3)\n",
    "cv_model = cv.fit(trainData)\n",
    "best_model = cv_model.bestModel"
   ]
  },
  {
   "cell_type": "code",
   "execution_count": 36,
   "metadata": {
    "scrolled": true
   },
   "outputs": [
    {
     "name": "stdout",
     "output_type": "stream",
     "text": [
      "model: RandomForestClassifier_f758fb4775e5\n",
      "[StringIndexer_a3ccabf9a287, VectorIndexer_1f0be14c57ca, RandomForestClassificationModel (uid=RandomForestClassifier_f758fb4775e5) with 17 trees, IndexToString_b10948c187cc]\n",
      "-----------------------------------------------------------------------------------------------------------------------\n",
      "Evaluation on  validation data\n",
      "Accuracy = 0.844828\n",
      "Validation Error = 0.155172\n",
      "F1 score = 0.843201\n",
      "-----------------------------------------------------------------------------------------------------------------------\n",
      "-----------------------------------------------------------------------------------------------------------------------\n",
      "Evaluation on  test data\n",
      "Accuracy = 0.914894\n",
      "Validation Error = 0.0851064\n",
      "F1 score = 0.915445\n",
      "-----------------------------------------------------------------------------------------------------------------------\n"
     ]
    }
   ],
   "source": [
    "print('model:',rf)\n",
    "print(cv_model.bestModel.stages)  \n",
    "#run function evaluation on validation dataset\n",
    "predictions = best_model.transform(valiData)\n",
    "evaluation(predictions, 'validation data')\n",
    "\n",
    "#run function evaluation on test dataset\n",
    "predictions = best_model.transform(testData)\n",
    "evaluation(predictions,'test data')"
   ]
  },
  {
   "cell_type": "code",
   "execution_count": 55,
   "metadata": {},
   "outputs": [],
   "source": [
    "from pyspark.sql.types import FloatType\n",
    "preds_and_labels = predictions.select(['predictedLabel','indexedLabel']).withColumn('prediction', col('predictedLabel').cast(FloatType()))\n",
    "#select only prediction and label columns\n",
    "preds_and_labels = preds_and_labels.select(['prediction','indexedLabel'])"
   ]
  },
  {
   "cell_type": "code",
   "execution_count": 56,
   "metadata": {},
   "outputs": [
    {
     "name": "stdout",
     "output_type": "stream",
     "text": [
      "+----------+------------+\n",
      "|prediction|indexedLabel|\n",
      "+----------+------------+\n",
      "|       0.0|         0.0|\n",
      "|       0.0|         0.0|\n",
      "|       0.0|         0.0|\n",
      "|       0.0|         0.0|\n",
      "|       1.0|         0.0|\n",
      "|       0.0|         0.0|\n",
      "|       0.0|         0.0|\n",
      "|       0.0|         0.0|\n",
      "|       0.0|         0.0|\n",
      "|       0.0|         0.0|\n",
      "|       0.0|         0.0|\n",
      "|       0.0|         0.0|\n",
      "|       0.0|         0.0|\n",
      "|       0.0|         0.0|\n",
      "|       0.0|         0.0|\n",
      "|       0.0|         0.0|\n",
      "|       0.0|         0.0|\n",
      "|       0.0|         0.0|\n",
      "|       0.0|         0.0|\n",
      "|       1.0|         1.0|\n",
      "+----------+------------+\n",
      "only showing top 20 rows\n",
      "\n"
     ]
    }
   ],
   "source": [
    "preds_and_labels.show()"
   ]
  },
  {
   "cell_type": "code",
   "execution_count": 57,
   "metadata": {},
   "outputs": [
    {
     "name": "stdout",
     "output_type": "stream",
     "text": [
      "[[ 18.   1.]\n",
      " [  3.  25.]]\n"
     ]
    }
   ],
   "source": [
    "from pyspark.mllib.evaluation import MulticlassMetrics\n",
    "metrics = MulticlassMetrics(preds_and_labels.rdd.map(tuple))\n",
    "print(metrics.confusionMatrix().toArray())"
   ]
  },
  {
   "cell_type": "code",
   "execution_count": 59,
   "metadata": {},
   "outputs": [
    {
     "data": {
      "text/plain": [
       "<matplotlib.axes._subplots.AxesSubplot at 0x7f28f432abe0>"
      ]
     },
     "execution_count": 59,
     "metadata": {},
     "output_type": "execute_result"
    },
    {
     "data": {
      "image/png": "[encoded data removed]",
      "text/plain": [
       "<matplotlib.figure.Figure at 0x7f28f419de48>"
      ]
     },
     "metadata": {
      "needs_background": "light"
     },
     "output_type": "display_data"
    }
   ],
   "source": [
    "sns.heatmap(metrics.confusionMatrix().toArray(), annot=True)"
   ]
  },
  {
   "cell_type": "code",
   "execution_count": 105,
   "metadata": {},
   "outputs": [],
   "source": [
    "def ExtractFeatureImp(featureImp, dataset, featuresCol):\n",
    "    \n",
    "    \"\"\"\n",
    "    INPUT: features inportance, dataset, features\n",
    "    OUTPUT: bar plot about features improtance\n",
    "    \"\"\"\n",
    "    \n",
    "    list_extract = []\n",
    "    for i in dataset.schema[featuresCol].metadata[\"ml_attr\"][\"attrs\"]:\n",
    "        list_extract = list_extract + dataset.schema[featuresCol].metadata[\"ml_attr\"][\"attrs\"][i]\n",
    "    varlist = pd.DataFrame(list_extract)\n",
    "    varlist['score'] = varlist['idx'].apply(lambda x: featureImp[x])\n",
    "    varlist = varlist.sort_values('score', ascending = False)\n",
    "    sns.barplot(data = varlist, x = 'name', y = 'score')\n",
    "    plt.xticks(rotation = 45)\n",
    "    return \n"
   ]
  },
  {
   "cell_type": "code",
   "execution_count": 107,
   "metadata": {},
   "outputs": [
    {
     "data": {
      "image/png": "[encoded data removed]",
      "text/plain": [
       "<matplotlib.figure.Figure at 0x7f28e0b29550>"
      ]
     },
     "metadata": {
      "needs_background": "light"
     },
     "output_type": "display_data"
    }
   ],
   "source": [
    "ExtractFeatureImp(best_model.stages[2].featureImportances, predictions, \"features\")"
   ]
  },
  {
   "cell_type": "markdown",
   "metadata": {},
   "source": [
    " # Conclusion\n",
    "In this project, I worked with the Sparkify dataset and predict whether the user churns or not. \n",
    "I load and clean data at first, Then exploring the data and data engineering. In the modeling session, Training the three models based on three different machine learning algorithms. \n",
    "The final RandomForestClassifier gives me a good evaluation result."
   ]
  },
  {
   "cell_type": "code",
   "execution_count": null,
   "metadata": {},
   "outputs": [],
   "source": []
  }
 ],
 "metadata": {
  "kernelspec": {
   "display_name": "Python 3",
   "language": "python",
   "name": "python3"
  },
  "language_info": {
   "codemirror_mode": {
    "name": "ipython",
    "version": 3
   },
   "file_extension": ".py",
   "mimetype": "text/x-python",
   "name": "python",
   "nbconvert_exporter": "python",
   "pygments_lexer": "ipython3",
   "version": "3.6.3"
  }
 },
 "nbformat": 4,
 "nbformat_minor": 2
}
